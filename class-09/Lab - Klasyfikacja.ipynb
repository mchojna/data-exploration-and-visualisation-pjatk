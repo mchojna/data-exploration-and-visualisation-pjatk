{
 "cells": [
  {
   "cell_type": "markdown",
   "id": "951c993e",
   "metadata": {},
   "source": [
    "# Lab - Klasyfikacja\n",
    "\n",
    "## Zadania\n",
    "\n",
    "1. Wczytaj zbiór `diabetes.csv`. Przygotuj dane do modelowania (podziel na zbiór treningowy, walidacyjny i testowy, następnie skaluj). \n",
    "Stwórz modele wykrywające przypadki cukrzycy (kolumna `Outcome`): \n",
    "    - [`LogisticRegression`](https://scikit-learn.org/stable/modules/generated/sklearn.linear_model.LogisticRegression.html),\n",
    "    - [`GaussianNB`](https://scikit-learn.org/stable/modules/generated/sklearn.naive_bayes.GaussianNB.html),\n",
    "    - [`LinearDiscriminantAnalysis`](https://scikit-learn.org/stable/modules/generated/sklearn.discriminant_analysis.LinearDiscriminantAnalysis.html),\n",
    "    - [`QuadraticDiscriminantAnalysis`](https://scikit-learn.org/stable/modules/generated/sklearn.discriminant_analysis.QuadraticDiscriminantAnalysis.html).\n",
    "\n",
    "    Wykorzystaj zbiór walidacyjny do porównania modeli stosując dokładność, precyzję, pełność, F-miarę. Wykorzystaj zbiór testowy do ewaluacji najlepszego modelu. \n",
    "\n",
    "2. Klasyfikuj grzyby ze zbioru `agaricus-lepiota.data` jako trujące (`p` - *poisonous*) lub jadalne (`e` - *edible*) za pomocą [`CategoricalNB`](https://scikit-learn.org/stable/modules/generated/sklearn.naive_bayes.CategoricalNB.html).\n",
    "    - Brakujące wartości zapisane są w zbiorze jako `?` (wczytując dane podaj `na_values='?'`). Usuń wiersze zawierające brakujące wartości (`dropna(axis='rows')`).\n",
    "    - Dane wejściowe (`X`) koduj jako 0,1,2,... przy użyciu [`OrdinalEncoder`](https://scikit-learn.org/stable/modules/generated/sklearn.preprocessing.OrdinalEncoder.html).\n",
    "    - Podziel dane na zbiór treningowy i testowy. Wypisz macierz omyłek oraz dokładność i F-miarę dla zbioru testowego. \n",
    "\n",
    "    "
   ]
  },
  {
   "cell_type": "code",
   "execution_count": 2,
   "id": "24d65ac7",
   "metadata": {},
   "outputs": [],
   "source": [
    "import pandas as pd"
   ]
  },
  {
   "cell_type": "markdown",
   "id": "973b9e7a",
   "metadata": {},
   "source": [
    "## Zadanie 1"
   ]
  },
  {
   "cell_type": "code",
   "execution_count": 18,
   "id": "da138e2c",
   "metadata": {},
   "outputs": [
    {
     "data": {
      "application/vnd.microsoft.datawrangler.viewer.v0+json": {
       "columns": [
        {
         "name": "index",
         "rawType": "int64",
         "type": "integer"
        },
        {
         "name": "Pregnancies",
         "rawType": "int64",
         "type": "integer"
        },
        {
         "name": "Glucose",
         "rawType": "int64",
         "type": "integer"
        },
        {
         "name": "BloodPressure",
         "rawType": "int64",
         "type": "integer"
        },
        {
         "name": "SkinThickness",
         "rawType": "int64",
         "type": "integer"
        },
        {
         "name": "Insulin",
         "rawType": "int64",
         "type": "integer"
        },
        {
         "name": "BMI",
         "rawType": "float64",
         "type": "float"
        },
        {
         "name": "DiabetesPedigreeFunction",
         "rawType": "float64",
         "type": "float"
        },
        {
         "name": "Age",
         "rawType": "int64",
         "type": "integer"
        },
        {
         "name": "Outcome",
         "rawType": "int64",
         "type": "integer"
        }
       ],
       "conversionMethod": "pd.DataFrame",
       "ref": "a9c91358-c788-4469-900a-f4d23919c9a9",
       "rows": [
        [
         "0",
         "6",
         "148",
         "72",
         "35",
         "0",
         "33.6",
         "0.627",
         "50",
         "1"
        ],
        [
         "1",
         "1",
         "85",
         "66",
         "29",
         "0",
         "26.6",
         "0.351",
         "31",
         "0"
        ],
        [
         "2",
         "8",
         "183",
         "64",
         "0",
         "0",
         "23.3",
         "0.672",
         "32",
         "1"
        ],
        [
         "3",
         "1",
         "89",
         "66",
         "23",
         "94",
         "28.1",
         "0.167",
         "21",
         "0"
        ],
        [
         "4",
         "0",
         "137",
         "40",
         "35",
         "168",
         "43.1",
         "2.288",
         "33",
         "1"
        ]
       ],
       "shape": {
        "columns": 9,
        "rows": 5
       }
      },
      "text/html": [
       "<div>\n",
       "<style scoped>\n",
       "    .dataframe tbody tr th:only-of-type {\n",
       "        vertical-align: middle;\n",
       "    }\n",
       "\n",
       "    .dataframe tbody tr th {\n",
       "        vertical-align: top;\n",
       "    }\n",
       "\n",
       "    .dataframe thead th {\n",
       "        text-align: right;\n",
       "    }\n",
       "</style>\n",
       "<table border=\"1\" class=\"dataframe\">\n",
       "  <thead>\n",
       "    <tr style=\"text-align: right;\">\n",
       "      <th></th>\n",
       "      <th>Pregnancies</th>\n",
       "      <th>Glucose</th>\n",
       "      <th>BloodPressure</th>\n",
       "      <th>SkinThickness</th>\n",
       "      <th>Insulin</th>\n",
       "      <th>BMI</th>\n",
       "      <th>DiabetesPedigreeFunction</th>\n",
       "      <th>Age</th>\n",
       "      <th>Outcome</th>\n",
       "    </tr>\n",
       "  </thead>\n",
       "  <tbody>\n",
       "    <tr>\n",
       "      <th>0</th>\n",
       "      <td>6</td>\n",
       "      <td>148</td>\n",
       "      <td>72</td>\n",
       "      <td>35</td>\n",
       "      <td>0</td>\n",
       "      <td>33.6</td>\n",
       "      <td>0.627</td>\n",
       "      <td>50</td>\n",
       "      <td>1</td>\n",
       "    </tr>\n",
       "    <tr>\n",
       "      <th>1</th>\n",
       "      <td>1</td>\n",
       "      <td>85</td>\n",
       "      <td>66</td>\n",
       "      <td>29</td>\n",
       "      <td>0</td>\n",
       "      <td>26.6</td>\n",
       "      <td>0.351</td>\n",
       "      <td>31</td>\n",
       "      <td>0</td>\n",
       "    </tr>\n",
       "    <tr>\n",
       "      <th>2</th>\n",
       "      <td>8</td>\n",
       "      <td>183</td>\n",
       "      <td>64</td>\n",
       "      <td>0</td>\n",
       "      <td>0</td>\n",
       "      <td>23.3</td>\n",
       "      <td>0.672</td>\n",
       "      <td>32</td>\n",
       "      <td>1</td>\n",
       "    </tr>\n",
       "    <tr>\n",
       "      <th>3</th>\n",
       "      <td>1</td>\n",
       "      <td>89</td>\n",
       "      <td>66</td>\n",
       "      <td>23</td>\n",
       "      <td>94</td>\n",
       "      <td>28.1</td>\n",
       "      <td>0.167</td>\n",
       "      <td>21</td>\n",
       "      <td>0</td>\n",
       "    </tr>\n",
       "    <tr>\n",
       "      <th>4</th>\n",
       "      <td>0</td>\n",
       "      <td>137</td>\n",
       "      <td>40</td>\n",
       "      <td>35</td>\n",
       "      <td>168</td>\n",
       "      <td>43.1</td>\n",
       "      <td>2.288</td>\n",
       "      <td>33</td>\n",
       "      <td>1</td>\n",
       "    </tr>\n",
       "  </tbody>\n",
       "</table>\n",
       "</div>"
      ],
      "text/plain": [
       "   Pregnancies  Glucose  BloodPressure  SkinThickness  Insulin   BMI  \\\n",
       "0            6      148             72             35        0  33.6   \n",
       "1            1       85             66             29        0  26.6   \n",
       "2            8      183             64              0        0  23.3   \n",
       "3            1       89             66             23       94  28.1   \n",
       "4            0      137             40             35      168  43.1   \n",
       "\n",
       "   DiabetesPedigreeFunction  Age  Outcome  \n",
       "0                     0.627   50        1  \n",
       "1                     0.351   31        0  \n",
       "2                     0.672   32        1  \n",
       "3                     0.167   21        0  \n",
       "4                     2.288   33        1  "
      ]
     },
     "execution_count": 18,
     "metadata": {},
     "output_type": "execute_result"
    }
   ],
   "source": [
    "diabetes = pd.read_csv(\"diabetes.csv\")\n",
    "diabetes.head(5)"
   ]
  },
  {
   "cell_type": "code",
   "execution_count": 19,
   "id": "c1dcf303",
   "metadata": {},
   "outputs": [],
   "source": [
    "from sklearn.model_selection import train_test_split"
   ]
  },
  {
   "cell_type": "code",
   "execution_count": 20,
   "id": "3568a780",
   "metadata": {},
   "outputs": [],
   "source": [
    "X = diabetes.drop([\"Outcome\"], axis=1)\n",
    "y = diabetes[[\"Outcome\"]]"
   ]
  },
  {
   "cell_type": "code",
   "execution_count": 21,
   "id": "4bc4ff6e",
   "metadata": {},
   "outputs": [
    {
     "name": "stdout",
     "output_type": "stream",
     "text": [
      "76, 76\n",
      "538, 538\n",
      "154, 154\n"
     ]
    }
   ],
   "source": [
    "X_full_train, X_test, y_full_train, y_test = train_test_split(X, y, test_size=0.20, random_state=42)\n",
    "X_train, X_valid, y_train, y_valid = train_test_split(X_full_train, y_full_train, test_size=0.875, random_state=42)\n",
    "\n",
    "print(f\"{len(X_train)}, {len(y_train)}\")\n",
    "print(f\"{len(X_valid)}, {len(y_valid)}\")\n",
    "print(f\"{len(X_test)}, {len(y_test)}\")"
   ]
  },
  {
   "cell_type": "code",
   "execution_count": 30,
   "id": "5d0e1f35",
   "metadata": {},
   "outputs": [],
   "source": [
    "from sklearn.metrics import confusion_matrix"
   ]
  },
  {
   "cell_type": "code",
   "execution_count": 36,
   "id": "63892e6b",
   "metadata": {},
   "outputs": [],
   "source": [
    "def calculate_confusion_matrix(y_true, y_pred):\n",
    "    tn, fp, fn, tp = confusion_matrix(y_true, y_pred).ravel()\n",
    "    accuracy = (tp+tn)/(tn+fp+fn+tp)\n",
    "    precision = tp/(tp+fp)\n",
    "    recall = tp/(tp+fn)\n",
    "    f_score = (2 * precision * recall) / (precision + recall)\n",
    "    \n",
    "    print(f\"Accuracy: {accuracy}\")\n",
    "    print(f\"Precision: {precision}\")\n",
    "    print(f\"Recall: {recall}\")\n",
    "    print(f\"F-score: {f_score}\")"
   ]
  },
  {
   "cell_type": "code",
   "execution_count": 37,
   "id": "f490253f",
   "metadata": {},
   "outputs": [],
   "source": [
    "from sklearn.preprocessing import StandardScaler"
   ]
  },
  {
   "cell_type": "code",
   "execution_count": 38,
   "id": "509ccf6c",
   "metadata": {},
   "outputs": [],
   "source": [
    "scaler = StandardScaler()\n",
    "X_train = scaler.fit_transform(X_train)\n",
    "X_test = scaler.transform(X_test)\n",
    "X_valid = scaler.transform(X_valid)"
   ]
  },
  {
   "cell_type": "code",
   "execution_count": 39,
   "id": "046525e2",
   "metadata": {},
   "outputs": [],
   "source": [
    "from sklearn.linear_model import LogisticRegression"
   ]
  },
  {
   "cell_type": "code",
   "execution_count": 42,
   "id": "68114ffc",
   "metadata": {},
   "outputs": [
    {
     "name": "stdout",
     "output_type": "stream",
     "text": [
      "Accuracy: 0.6914498141263941\n",
      "Precision: 0.5797101449275363\n",
      "Recall: 0.425531914893617\n",
      "F-score: 0.4907975460122699\n"
     ]
    }
   ],
   "source": [
    "lr = LogisticRegression().fit(X_train, y_train.values.ravel())\n",
    "y_pred = lr.predict(X_valid)\n",
    "calculate_confusion_matrix(y_valid, y_pred)"
   ]
  },
  {
   "cell_type": "code",
   "execution_count": 41,
   "id": "b21a0d9c",
   "metadata": {},
   "outputs": [],
   "source": [
    "from sklearn.naive_bayes import GaussianNB"
   ]
  },
  {
   "cell_type": "code",
   "execution_count": 45,
   "id": "5b1768bc",
   "metadata": {},
   "outputs": [
    {
     "name": "stdout",
     "output_type": "stream",
     "text": [
      "Accuracy: 0.6914498141263941\n",
      "Precision: 0.5625\n",
      "Recall: 0.526595744680851\n",
      "F-score: 0.5439560439560438\n"
     ]
    }
   ],
   "source": [
    "gnb = GaussianNB().fit(X_train, y_train.values.ravel())\n",
    "y_pred = gnb.predict(X_valid)\n",
    "calculate_confusion_matrix(y_valid, y_pred)"
   ]
  },
  {
   "cell_type": "code",
   "execution_count": 46,
   "id": "75fcfedd",
   "metadata": {},
   "outputs": [],
   "source": [
    "from sklearn.discriminant_analysis import LinearDiscriminantAnalysis"
   ]
  },
  {
   "cell_type": "code",
   "execution_count": 48,
   "id": "96b29662",
   "metadata": {},
   "outputs": [
    {
     "name": "stdout",
     "output_type": "stream",
     "text": [
      "Accuracy: 0.6895910780669146\n",
      "Precision: 0.5755395683453237\n",
      "Recall: 0.425531914893617\n",
      "F-score: 0.4892966360856269\n"
     ]
    }
   ],
   "source": [
    "lda = LinearDiscriminantAnalysis().fit(X_train, y_train.values.ravel())\n",
    "y_pred = lda.predict(X_valid)\n",
    "calculate_confusion_matrix(y_valid, y_pred)"
   ]
  },
  {
   "cell_type": "code",
   "execution_count": 49,
   "id": "3f6d4398",
   "metadata": {},
   "outputs": [],
   "source": [
    "from sklearn.discriminant_analysis import QuadraticDiscriminantAnalysis"
   ]
  },
  {
   "cell_type": "code",
   "execution_count": 50,
   "id": "7f64f174",
   "metadata": {},
   "outputs": [
    {
     "name": "stdout",
     "output_type": "stream",
     "text": [
      "Accuracy: 0.6561338289962825\n",
      "Precision: 0.5081967213114754\n",
      "Recall: 0.4946808510638298\n",
      "F-score: 0.5013477088948787\n"
     ]
    }
   ],
   "source": [
    "qda = QuadraticDiscriminantAnalysis().fit(X_train, y_train.values.ravel())\n",
    "y_pred = qda.predict(X_valid)\n",
    "calculate_confusion_matrix(y_valid, y_pred)"
   ]
  },
  {
   "cell_type": "markdown",
   "id": "55a9fd20",
   "metadata": {},
   "source": [
    "## Zadanie 2"
   ]
  },
  {
   "cell_type": "code",
   "execution_count": 57,
   "id": "b54665d7",
   "metadata": {},
   "outputs": [
    {
     "data": {
      "application/vnd.microsoft.datawrangler.viewer.v0+json": {
       "columns": [
        {
         "name": "index",
         "rawType": "int64",
         "type": "integer"
        },
        {
         "name": "class",
         "rawType": "object",
         "type": "string"
        },
        {
         "name": "cap-shape",
         "rawType": "object",
         "type": "string"
        },
        {
         "name": "cap-surface",
         "rawType": "object",
         "type": "string"
        },
        {
         "name": "cap-color",
         "rawType": "object",
         "type": "string"
        },
        {
         "name": "bruises?",
         "rawType": "object",
         "type": "string"
        },
        {
         "name": "odor",
         "rawType": "object",
         "type": "string"
        },
        {
         "name": "gill-attachment",
         "rawType": "object",
         "type": "string"
        },
        {
         "name": "gill-spacing",
         "rawType": "object",
         "type": "string"
        },
        {
         "name": "gill-size",
         "rawType": "object",
         "type": "string"
        },
        {
         "name": "gill-color",
         "rawType": "object",
         "type": "string"
        },
        {
         "name": "stalk-shape",
         "rawType": "object",
         "type": "string"
        },
        {
         "name": "stalk-root",
         "rawType": "object",
         "type": "string"
        },
        {
         "name": "stalk-surface-above-ring",
         "rawType": "object",
         "type": "string"
        },
        {
         "name": "stalk-surface-below-ring",
         "rawType": "object",
         "type": "string"
        },
        {
         "name": "stalk-color-above-ring",
         "rawType": "object",
         "type": "string"
        },
        {
         "name": "stalk-color-below-ring",
         "rawType": "object",
         "type": "string"
        },
        {
         "name": "veil-type",
         "rawType": "object",
         "type": "string"
        },
        {
         "name": "veil-color",
         "rawType": "object",
         "type": "string"
        },
        {
         "name": "ring-number",
         "rawType": "object",
         "type": "string"
        },
        {
         "name": "ring-type",
         "rawType": "object",
         "type": "string"
        },
        {
         "name": "spore-print-color",
         "rawType": "object",
         "type": "string"
        },
        {
         "name": "population",
         "rawType": "object",
         "type": "string"
        },
        {
         "name": "habitat",
         "rawType": "object",
         "type": "string"
        }
       ],
       "conversionMethod": "pd.DataFrame",
       "ref": "cf2f4baa-1617-430e-a5bc-93c719bfd21b",
       "rows": [
        [
         "0",
         "p",
         "x",
         "s",
         "n",
         "t",
         "p",
         "f",
         "c",
         "n",
         "k",
         "e",
         "e",
         "s",
         "s",
         "w",
         "w",
         "p",
         "w",
         "o",
         "p",
         "k",
         "s",
         "u"
        ],
        [
         "1",
         "e",
         "x",
         "s",
         "y",
         "t",
         "a",
         "f",
         "c",
         "b",
         "k",
         "e",
         "c",
         "s",
         "s",
         "w",
         "w",
         "p",
         "w",
         "o",
         "p",
         "n",
         "n",
         "g"
        ],
        [
         "2",
         "e",
         "b",
         "s",
         "w",
         "t",
         "l",
         "f",
         "c",
         "b",
         "n",
         "e",
         "c",
         "s",
         "s",
         "w",
         "w",
         "p",
         "w",
         "o",
         "p",
         "n",
         "n",
         "m"
        ],
        [
         "3",
         "p",
         "x",
         "y",
         "w",
         "t",
         "p",
         "f",
         "c",
         "n",
         "n",
         "e",
         "e",
         "s",
         "s",
         "w",
         "w",
         "p",
         "w",
         "o",
         "p",
         "k",
         "s",
         "u"
        ],
        [
         "4",
         "e",
         "x",
         "s",
         "g",
         "f",
         "n",
         "f",
         "w",
         "b",
         "k",
         "t",
         "e",
         "s",
         "s",
         "w",
         "w",
         "p",
         "w",
         "o",
         "e",
         "n",
         "a",
         "g"
        ]
       ],
       "shape": {
        "columns": 23,
        "rows": 5
       }
      },
      "text/html": [
       "<div>\n",
       "<style scoped>\n",
       "    .dataframe tbody tr th:only-of-type {\n",
       "        vertical-align: middle;\n",
       "    }\n",
       "\n",
       "    .dataframe tbody tr th {\n",
       "        vertical-align: top;\n",
       "    }\n",
       "\n",
       "    .dataframe thead th {\n",
       "        text-align: right;\n",
       "    }\n",
       "</style>\n",
       "<table border=\"1\" class=\"dataframe\">\n",
       "  <thead>\n",
       "    <tr style=\"text-align: right;\">\n",
       "      <th></th>\n",
       "      <th>class</th>\n",
       "      <th>cap-shape</th>\n",
       "      <th>cap-surface</th>\n",
       "      <th>cap-color</th>\n",
       "      <th>bruises?</th>\n",
       "      <th>odor</th>\n",
       "      <th>gill-attachment</th>\n",
       "      <th>gill-spacing</th>\n",
       "      <th>gill-size</th>\n",
       "      <th>gill-color</th>\n",
       "      <th>...</th>\n",
       "      <th>stalk-surface-below-ring</th>\n",
       "      <th>stalk-color-above-ring</th>\n",
       "      <th>stalk-color-below-ring</th>\n",
       "      <th>veil-type</th>\n",
       "      <th>veil-color</th>\n",
       "      <th>ring-number</th>\n",
       "      <th>ring-type</th>\n",
       "      <th>spore-print-color</th>\n",
       "      <th>population</th>\n",
       "      <th>habitat</th>\n",
       "    </tr>\n",
       "  </thead>\n",
       "  <tbody>\n",
       "    <tr>\n",
       "      <th>0</th>\n",
       "      <td>p</td>\n",
       "      <td>x</td>\n",
       "      <td>s</td>\n",
       "      <td>n</td>\n",
       "      <td>t</td>\n",
       "      <td>p</td>\n",
       "      <td>f</td>\n",
       "      <td>c</td>\n",
       "      <td>n</td>\n",
       "      <td>k</td>\n",
       "      <td>...</td>\n",
       "      <td>s</td>\n",
       "      <td>w</td>\n",
       "      <td>w</td>\n",
       "      <td>p</td>\n",
       "      <td>w</td>\n",
       "      <td>o</td>\n",
       "      <td>p</td>\n",
       "      <td>k</td>\n",
       "      <td>s</td>\n",
       "      <td>u</td>\n",
       "    </tr>\n",
       "    <tr>\n",
       "      <th>1</th>\n",
       "      <td>e</td>\n",
       "      <td>x</td>\n",
       "      <td>s</td>\n",
       "      <td>y</td>\n",
       "      <td>t</td>\n",
       "      <td>a</td>\n",
       "      <td>f</td>\n",
       "      <td>c</td>\n",
       "      <td>b</td>\n",
       "      <td>k</td>\n",
       "      <td>...</td>\n",
       "      <td>s</td>\n",
       "      <td>w</td>\n",
       "      <td>w</td>\n",
       "      <td>p</td>\n",
       "      <td>w</td>\n",
       "      <td>o</td>\n",
       "      <td>p</td>\n",
       "      <td>n</td>\n",
       "      <td>n</td>\n",
       "      <td>g</td>\n",
       "    </tr>\n",
       "    <tr>\n",
       "      <th>2</th>\n",
       "      <td>e</td>\n",
       "      <td>b</td>\n",
       "      <td>s</td>\n",
       "      <td>w</td>\n",
       "      <td>t</td>\n",
       "      <td>l</td>\n",
       "      <td>f</td>\n",
       "      <td>c</td>\n",
       "      <td>b</td>\n",
       "      <td>n</td>\n",
       "      <td>...</td>\n",
       "      <td>s</td>\n",
       "      <td>w</td>\n",
       "      <td>w</td>\n",
       "      <td>p</td>\n",
       "      <td>w</td>\n",
       "      <td>o</td>\n",
       "      <td>p</td>\n",
       "      <td>n</td>\n",
       "      <td>n</td>\n",
       "      <td>m</td>\n",
       "    </tr>\n",
       "    <tr>\n",
       "      <th>3</th>\n",
       "      <td>p</td>\n",
       "      <td>x</td>\n",
       "      <td>y</td>\n",
       "      <td>w</td>\n",
       "      <td>t</td>\n",
       "      <td>p</td>\n",
       "      <td>f</td>\n",
       "      <td>c</td>\n",
       "      <td>n</td>\n",
       "      <td>n</td>\n",
       "      <td>...</td>\n",
       "      <td>s</td>\n",
       "      <td>w</td>\n",
       "      <td>w</td>\n",
       "      <td>p</td>\n",
       "      <td>w</td>\n",
       "      <td>o</td>\n",
       "      <td>p</td>\n",
       "      <td>k</td>\n",
       "      <td>s</td>\n",
       "      <td>u</td>\n",
       "    </tr>\n",
       "    <tr>\n",
       "      <th>4</th>\n",
       "      <td>e</td>\n",
       "      <td>x</td>\n",
       "      <td>s</td>\n",
       "      <td>g</td>\n",
       "      <td>f</td>\n",
       "      <td>n</td>\n",
       "      <td>f</td>\n",
       "      <td>w</td>\n",
       "      <td>b</td>\n",
       "      <td>k</td>\n",
       "      <td>...</td>\n",
       "      <td>s</td>\n",
       "      <td>w</td>\n",
       "      <td>w</td>\n",
       "      <td>p</td>\n",
       "      <td>w</td>\n",
       "      <td>o</td>\n",
       "      <td>e</td>\n",
       "      <td>n</td>\n",
       "      <td>a</td>\n",
       "      <td>g</td>\n",
       "    </tr>\n",
       "  </tbody>\n",
       "</table>\n",
       "<p>5 rows × 23 columns</p>\n",
       "</div>"
      ],
      "text/plain": [
       "  class cap-shape cap-surface cap-color bruises? odor gill-attachment  \\\n",
       "0     p         x           s         n        t    p               f   \n",
       "1     e         x           s         y        t    a               f   \n",
       "2     e         b           s         w        t    l               f   \n",
       "3     p         x           y         w        t    p               f   \n",
       "4     e         x           s         g        f    n               f   \n",
       "\n",
       "  gill-spacing gill-size gill-color  ... stalk-surface-below-ring  \\\n",
       "0            c         n          k  ...                        s   \n",
       "1            c         b          k  ...                        s   \n",
       "2            c         b          n  ...                        s   \n",
       "3            c         n          n  ...                        s   \n",
       "4            w         b          k  ...                        s   \n",
       "\n",
       "  stalk-color-above-ring stalk-color-below-ring veil-type veil-color  \\\n",
       "0                      w                      w         p          w   \n",
       "1                      w                      w         p          w   \n",
       "2                      w                      w         p          w   \n",
       "3                      w                      w         p          w   \n",
       "4                      w                      w         p          w   \n",
       "\n",
       "  ring-number ring-type spore-print-color population habitat  \n",
       "0           o         p                 k          s       u  \n",
       "1           o         p                 n          n       g  \n",
       "2           o         p                 n          n       m  \n",
       "3           o         p                 k          s       u  \n",
       "4           o         e                 n          a       g  \n",
       "\n",
       "[5 rows x 23 columns]"
      ]
     },
     "execution_count": 57,
     "metadata": {},
     "output_type": "execute_result"
    }
   ],
   "source": [
    "agaricus_lepiota = pd.read_csv(\"agaricus-lepiota.data\", na_values=\"?\")\n",
    "agaricus_lepiota.head(5)"
   ]
  },
  {
   "cell_type": "code",
   "execution_count": 58,
   "id": "d1ecc179",
   "metadata": {},
   "outputs": [],
   "source": [
    "agaricus_lepiota.dropna(axis=\"rows\", inplace=True)"
   ]
  },
  {
   "cell_type": "code",
   "execution_count": 59,
   "id": "a7306cea",
   "metadata": {},
   "outputs": [],
   "source": [
    "X = agaricus_lepiota.drop([\"class\"], axis=1)\n",
    "y = agaricus_lepiota[[\"class\"]]"
   ]
  },
  {
   "cell_type": "code",
   "execution_count": 60,
   "id": "cdea599b",
   "metadata": {},
   "outputs": [],
   "source": [
    "from sklearn.preprocessing import OrdinalEncoder"
   ]
  },
  {
   "cell_type": "code",
   "execution_count": 62,
   "id": "1a6d1d50",
   "metadata": {},
   "outputs": [],
   "source": [
    "oe = OrdinalEncoder()\n",
    "X = oe.fit_transform(X)"
   ]
  },
  {
   "cell_type": "code",
   "execution_count": 65,
   "id": "303b5055",
   "metadata": {},
   "outputs": [
    {
     "data": {
      "text/plain": [
       "array([[5., 2., 4., ..., 1., 3., 5.],\n",
       "       [5., 2., 7., ..., 2., 2., 1.],\n",
       "       [0., 2., 6., ..., 2., 2., 3.],\n",
       "       ...,\n",
       "       [5., 3., 3., ..., 5., 5., 4.],\n",
       "       [5., 3., 1., ..., 5., 1., 0.],\n",
       "       [2., 3., 1., ..., 5., 1., 0.]])"
      ]
     },
     "execution_count": 65,
     "metadata": {},
     "output_type": "execute_result"
    }
   ],
   "source": [
    "X"
   ]
  },
  {
   "cell_type": "code",
   "execution_count": 71,
   "id": "47bfb158",
   "metadata": {},
   "outputs": [
    {
     "data": {
      "application/vnd.microsoft.datawrangler.viewer.v0+json": {
       "columns": [
        {
         "name": "index",
         "rawType": "int64",
         "type": "integer"
        },
        {
         "name": "class",
         "rawType": "object",
         "type": "string"
        }
       ],
       "conversionMethod": "pd.DataFrame",
       "ref": "d8ba5516-9dc1-42f8-915a-59ad4e9df94b",
       "rows": [
        [
         "0",
         "p"
        ],
        [
         "1",
         "e"
        ],
        [
         "2",
         "e"
        ],
        [
         "3",
         "p"
        ],
        [
         "4",
         "e"
        ],
        [
         "5",
         "e"
        ],
        [
         "6",
         "e"
        ],
        [
         "7",
         "e"
        ],
        [
         "8",
         "p"
        ],
        [
         "9",
         "e"
        ],
        [
         "10",
         "e"
        ],
        [
         "11",
         "e"
        ],
        [
         "12",
         "e"
        ],
        [
         "13",
         "p"
        ],
        [
         "14",
         "e"
        ],
        [
         "15",
         "e"
        ],
        [
         "16",
         "e"
        ],
        [
         "17",
         "p"
        ],
        [
         "18",
         "p"
        ],
        [
         "19",
         "p"
        ],
        [
         "20",
         "e"
        ],
        [
         "21",
         "p"
        ],
        [
         "22",
         "e"
        ],
        [
         "23",
         "e"
        ],
        [
         "24",
         "e"
        ],
        [
         "25",
         "p"
        ],
        [
         "26",
         "e"
        ],
        [
         "27",
         "e"
        ],
        [
         "28",
         "e"
        ],
        [
         "29",
         "e"
        ],
        [
         "30",
         "e"
        ],
        [
         "31",
         "p"
        ],
        [
         "32",
         "e"
        ],
        [
         "33",
         "e"
        ],
        [
         "34",
         "e"
        ],
        [
         "35",
         "e"
        ],
        [
         "36",
         "e"
        ],
        [
         "37",
         "p"
        ],
        [
         "38",
         "e"
        ],
        [
         "39",
         "e"
        ],
        [
         "40",
         "e"
        ],
        [
         "41",
         "e"
        ],
        [
         "42",
         "e"
        ],
        [
         "43",
         "p"
        ],
        [
         "44",
         "e"
        ],
        [
         "45",
         "e"
        ],
        [
         "46",
         "e"
        ],
        [
         "47",
         "e"
        ],
        [
         "48",
         "e"
        ],
        [
         "49",
         "e"
        ]
       ],
       "shape": {
        "columns": 1,
        "rows": 5644
       }
      },
      "text/html": [
       "<div>\n",
       "<style scoped>\n",
       "    .dataframe tbody tr th:only-of-type {\n",
       "        vertical-align: middle;\n",
       "    }\n",
       "\n",
       "    .dataframe tbody tr th {\n",
       "        vertical-align: top;\n",
       "    }\n",
       "\n",
       "    .dataframe thead th {\n",
       "        text-align: right;\n",
       "    }\n",
       "</style>\n",
       "<table border=\"1\" class=\"dataframe\">\n",
       "  <thead>\n",
       "    <tr style=\"text-align: right;\">\n",
       "      <th></th>\n",
       "      <th>class</th>\n",
       "    </tr>\n",
       "  </thead>\n",
       "  <tbody>\n",
       "    <tr>\n",
       "      <th>0</th>\n",
       "      <td>p</td>\n",
       "    </tr>\n",
       "    <tr>\n",
       "      <th>1</th>\n",
       "      <td>e</td>\n",
       "    </tr>\n",
       "    <tr>\n",
       "      <th>2</th>\n",
       "      <td>e</td>\n",
       "    </tr>\n",
       "    <tr>\n",
       "      <th>3</th>\n",
       "      <td>p</td>\n",
       "    </tr>\n",
       "    <tr>\n",
       "      <th>4</th>\n",
       "      <td>e</td>\n",
       "    </tr>\n",
       "    <tr>\n",
       "      <th>...</th>\n",
       "      <td>...</td>\n",
       "    </tr>\n",
       "    <tr>\n",
       "      <th>7986</th>\n",
       "      <td>e</td>\n",
       "    </tr>\n",
       "    <tr>\n",
       "      <th>8001</th>\n",
       "      <td>e</td>\n",
       "    </tr>\n",
       "    <tr>\n",
       "      <th>8038</th>\n",
       "      <td>e</td>\n",
       "    </tr>\n",
       "    <tr>\n",
       "      <th>8095</th>\n",
       "      <td>p</td>\n",
       "    </tr>\n",
       "    <tr>\n",
       "      <th>8114</th>\n",
       "      <td>p</td>\n",
       "    </tr>\n",
       "  </tbody>\n",
       "</table>\n",
       "<p>5644 rows × 1 columns</p>\n",
       "</div>"
      ],
      "text/plain": [
       "     class\n",
       "0        p\n",
       "1        e\n",
       "2        e\n",
       "3        p\n",
       "4        e\n",
       "...    ...\n",
       "7986     e\n",
       "8001     e\n",
       "8038     e\n",
       "8095     p\n",
       "8114     p\n",
       "\n",
       "[5644 rows x 1 columns]"
      ]
     },
     "execution_count": 71,
     "metadata": {},
     "output_type": "execute_result"
    }
   ],
   "source": [
    "y"
   ]
  },
  {
   "cell_type": "code",
   "execution_count": 66,
   "id": "88b47ee9",
   "metadata": {},
   "outputs": [],
   "source": [
    "X_train, X_test, y_train, y_test = train_test_split(X, y, test_size=0.20, random_state=42)"
   ]
  },
  {
   "cell_type": "code",
   "execution_count": 67,
   "id": "b3e2d87d",
   "metadata": {},
   "outputs": [],
   "source": [
    "from sklearn.naive_bayes import CategoricalNB"
   ]
  },
  {
   "cell_type": "code",
   "execution_count": 74,
   "id": "6cb96927",
   "metadata": {},
   "outputs": [
    {
     "name": "stdout",
     "output_type": "stream",
     "text": [
      "Accuracy: 0.9663418954827281\n",
      "Precision: 0.9923469387755102\n",
      "Recall: 0.9174528301886793\n",
      "F-score: 0.9534313725490197\n"
     ]
    }
   ],
   "source": [
    "cnb = CategoricalNB().fit(X_train, y_train.values.ravel())\n",
    "y_pred = cnb.predict(X_test)\n",
    "calculate_confusion_matrix(y_test, y_pred)"
   ]
  },
  {
   "cell_type": "code",
   "execution_count": 76,
   "id": "d29fdb83",
   "metadata": {},
   "outputs": [
    {
     "data": {
      "text/plain": [
       "class\n",
       "e        3488\n",
       "p        2156\n",
       "Name: count, dtype: int64"
      ]
     },
     "execution_count": 76,
     "metadata": {},
     "output_type": "execute_result"
    }
   ],
   "source": [
    "y.value_counts()"
   ]
  },
  {
   "cell_type": "code",
   "execution_count": null,
   "id": "196f15d1",
   "metadata": {},
   "outputs": [],
   "source": []
  }
 ],
 "metadata": {
  "kernelspec": {
   "display_name": ".venv",
   "language": "python",
   "name": "python3"
  },
  "language_info": {
   "codemirror_mode": {
    "name": "ipython",
    "version": 3
   },
   "file_extension": ".py",
   "mimetype": "text/x-python",
   "name": "python",
   "nbconvert_exporter": "python",
   "pygments_lexer": "ipython3",
   "version": "3.9.21"
  }
 },
 "nbformat": 4,
 "nbformat_minor": 5
}
